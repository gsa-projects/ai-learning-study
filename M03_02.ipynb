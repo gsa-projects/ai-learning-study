{
 "cells": [
  {
   "cell_type": "markdown",
   "metadata": {
    "id": "FsJ4Iyz2F3Ud"
   },
   "source": [
    "# 1. 풀어야할 문제 이해하기\n",
    "\n",
    "\n",
    "*   정확한 값을 예측하는 회귀 문제인가?\n",
    "*   입력이 속한 범주를 예측하는 분류 문제인가?\n",
    "\n"
   ]
  },
  {
   "cell_type": "markdown",
   "metadata": {
    "id": "iP15TGKNJWN2"
   },
   "source": [
    "## [문제] 손으로 쓴 0-9까지 숫자 분류하기"
   ]
  },
  {
   "cell_type": "code",
   "execution_count": null,
   "metadata": {
    "id": "O7BJGuKZQiiu"
   },
   "outputs": [],
   "source": [
    "#데이터셋 다운로드\n",
    "#캐글 https://www.kaggle.com/datasets/oddrationale/mnist-in-csv"
   ]
  },
  {
   "cell_type": "code",
   "execution_count": 2,
   "metadata": {
    "colab": {
     "base_uri": "https://localhost:8080/"
    },
    "executionInfo": {
     "elapsed": 24594,
     "status": "ok",
     "timestamp": 1694513415776,
     "user": {
      "displayName": "류현승",
      "userId": "08358934389582979220"
     },
     "user_tz": -540
    },
    "id": "Wt7UqfYIHsWF",
    "outputId": "189e7851-52ab-4325-8d23-63924961cccc"
   },
   "outputs": [
    {
     "name": "stdout",
     "output_type": "stream",
     "text": [
      "Mounted at /content/drive\n"
     ]
    }
   ],
   "source": [
    "# from google.colab import drive\n",
    "# drive.mount('/content/drive')"
   ]
  },
  {
   "cell_type": "code",
   "execution_count": 3,
   "metadata": {
    "colab": {
     "base_uri": "https://localhost:8080/"
    },
    "executionInfo": {
     "elapsed": 826,
     "status": "ok",
     "timestamp": 1694513418896,
     "user": {
      "displayName": "류현승",
      "userId": "08358934389582979220"
     },
     "user_tz": -540
    },
    "id": "GFHGFtQqTG_U",
    "outputId": "6606d419-0af2-480e-ca10-983eb97a6a62"
   },
   "outputs": [
    {
     "name": "stdout",
     "output_type": "stream",
     "text": [
      "/content/drive/MyDrive/ml-class-rhseung/data\n",
      "bike_test.csv\t  grades.tab  MNIST.pth        movies_train.csv   WineQT.csv\n",
      "bike_train.csv\t  HDI.tab     mnist_test.csv   ratings_train.txt\n",
      "boston_train.csv  heart.csv   mnist_train.csv  titanic_test.csv\n",
      "country.xlsx\t  iris.tab    movies_test.csv  titanic_train.csv\n"
     ]
    }
   ],
   "source": [
    "#구글 드라이브에서 불러오기\n",
    "#데이터 경로 확인\n",
    "#/content/drive/MyDrive/수업활동/2023_머신러닝과딥러닝/data\n",
    "\n",
    "%cd /content/drive/MyDrive/ml-class-rhseung/data\n",
    "!ls"
   ]
  },
  {
   "cell_type": "markdown",
   "metadata": {
    "id": "N7LuVUgwLisd"
   },
   "source": [
    "# 2. 데이터 파악하기\n",
    "\n",
    "\n",
    "*   입력 자료형과 정답 확인하기\n",
    "*   클래스 간의 불균형은 없는지 확인하기\n",
    "*   누락된 데이터 혹은 자료형에 맞지 않는 데이터가 포함되어 있는지 확인하기\n",
    "\n"
   ]
  },
  {
   "cell_type": "code",
   "execution_count": 1,
   "metadata": {
    "executionInfo": {
     "elapsed": 414,
     "status": "ok",
     "timestamp": 1694513423317,
     "user": {
      "displayName": "류현승",
      "userId": "08358934389582979220"
     },
     "user_tz": -540
    },
    "id": "q9IcatVOFtBf"
   },
   "outputs": [],
   "source": [
    "#데이터 파악을 위한 모듈 임포트\n",
    "import pandas as pd\n",
    "import numpy as np\n",
    "import matplotlib.pyplot as plt\n",
    "from os import path"
   ]
  },
  {
   "cell_type": "code",
   "execution_count": 2,
   "metadata": {
    "colab": {
     "base_uri": "https://localhost:8080/"
    },
    "executionInfo": {
     "elapsed": 5320,
     "status": "ok",
     "timestamp": 1694513428634,
     "user": {
      "displayName": "류현승",
      "userId": "08358934389582979220"
     },
     "user_tz": -540
    },
    "id": "VCSuEntWauMt",
    "outputId": "5d205f80-303e-46f7-ada7-bb2a696e3b45"
   },
   "outputs": [
    {
     "data": {
      "text/plain": [
       "((60000, 785), (10000, 785))"
      ]
     },
     "execution_count": 2,
     "metadata": {},
     "output_type": "execute_result"
    }
   ],
   "source": [
    "#데이터 불러오기\n",
    "# dir = '/content/drive/MyDrive/ml-class-rhseung/data'\n",
    "dir = 'data'\n",
    "train = pd.read_csv(path.join(dir, 'mnist_train.csv'))\n",
    "test = pd.read_csv(path.join(dir, 'mnist_test.csv'))\n",
    "#데이터 크기 확인\n",
    "train.shape, test.shape"
   ]
  },
  {
   "cell_type": "code",
   "execution_count": 3,
   "metadata": {
    "colab": {
     "base_uri": "https://localhost:8080/",
     "height": 235
    },
    "executionInfo": {
     "elapsed": 5,
     "status": "ok",
     "timestamp": 1694513429033,
     "user": {
      "displayName": "류현승",
      "userId": "08358934389582979220"
     },
     "user_tz": -540
    },
    "id": "mq5fzrggevM1",
    "outputId": "8d163a51-6a1b-4336-c3e9-27849768966a"
   },
   "outputs": [
    {
     "data": {
      "text/html": [
       "<div>\n",
       "<style scoped>\n",
       "    .dataframe tbody tr th:only-of-type {\n",
       "        vertical-align: middle;\n",
       "    }\n",
       "\n",
       "    .dataframe tbody tr th {\n",
       "        vertical-align: top;\n",
       "    }\n",
       "\n",
       "    .dataframe thead th {\n",
       "        text-align: right;\n",
       "    }\n",
       "</style>\n",
       "<table border=\"1\" class=\"dataframe\">\n",
       "  <thead>\n",
       "    <tr style=\"text-align: right;\">\n",
       "      <th></th>\n",
       "      <th>label</th>\n",
       "      <th>1x1</th>\n",
       "      <th>1x2</th>\n",
       "      <th>1x3</th>\n",
       "      <th>1x4</th>\n",
       "      <th>1x5</th>\n",
       "      <th>1x6</th>\n",
       "      <th>1x7</th>\n",
       "      <th>1x8</th>\n",
       "      <th>1x9</th>\n",
       "      <th>...</th>\n",
       "      <th>28x19</th>\n",
       "      <th>28x20</th>\n",
       "      <th>28x21</th>\n",
       "      <th>28x22</th>\n",
       "      <th>28x23</th>\n",
       "      <th>28x24</th>\n",
       "      <th>28x25</th>\n",
       "      <th>28x26</th>\n",
       "      <th>28x27</th>\n",
       "      <th>28x28</th>\n",
       "    </tr>\n",
       "  </thead>\n",
       "  <tbody>\n",
       "    <tr>\n",
       "      <th>0</th>\n",
       "      <td>5</td>\n",
       "      <td>0</td>\n",
       "      <td>0</td>\n",
       "      <td>0</td>\n",
       "      <td>0</td>\n",
       "      <td>0</td>\n",
       "      <td>0</td>\n",
       "      <td>0</td>\n",
       "      <td>0</td>\n",
       "      <td>0</td>\n",
       "      <td>...</td>\n",
       "      <td>0</td>\n",
       "      <td>0</td>\n",
       "      <td>0</td>\n",
       "      <td>0</td>\n",
       "      <td>0</td>\n",
       "      <td>0</td>\n",
       "      <td>0</td>\n",
       "      <td>0</td>\n",
       "      <td>0</td>\n",
       "      <td>0</td>\n",
       "    </tr>\n",
       "    <tr>\n",
       "      <th>1</th>\n",
       "      <td>0</td>\n",
       "      <td>0</td>\n",
       "      <td>0</td>\n",
       "      <td>0</td>\n",
       "      <td>0</td>\n",
       "      <td>0</td>\n",
       "      <td>0</td>\n",
       "      <td>0</td>\n",
       "      <td>0</td>\n",
       "      <td>0</td>\n",
       "      <td>...</td>\n",
       "      <td>0</td>\n",
       "      <td>0</td>\n",
       "      <td>0</td>\n",
       "      <td>0</td>\n",
       "      <td>0</td>\n",
       "      <td>0</td>\n",
       "      <td>0</td>\n",
       "      <td>0</td>\n",
       "      <td>0</td>\n",
       "      <td>0</td>\n",
       "    </tr>\n",
       "    <tr>\n",
       "      <th>2</th>\n",
       "      <td>4</td>\n",
       "      <td>0</td>\n",
       "      <td>0</td>\n",
       "      <td>0</td>\n",
       "      <td>0</td>\n",
       "      <td>0</td>\n",
       "      <td>0</td>\n",
       "      <td>0</td>\n",
       "      <td>0</td>\n",
       "      <td>0</td>\n",
       "      <td>...</td>\n",
       "      <td>0</td>\n",
       "      <td>0</td>\n",
       "      <td>0</td>\n",
       "      <td>0</td>\n",
       "      <td>0</td>\n",
       "      <td>0</td>\n",
       "      <td>0</td>\n",
       "      <td>0</td>\n",
       "      <td>0</td>\n",
       "      <td>0</td>\n",
       "    </tr>\n",
       "    <tr>\n",
       "      <th>3</th>\n",
       "      <td>1</td>\n",
       "      <td>0</td>\n",
       "      <td>0</td>\n",
       "      <td>0</td>\n",
       "      <td>0</td>\n",
       "      <td>0</td>\n",
       "      <td>0</td>\n",
       "      <td>0</td>\n",
       "      <td>0</td>\n",
       "      <td>0</td>\n",
       "      <td>...</td>\n",
       "      <td>0</td>\n",
       "      <td>0</td>\n",
       "      <td>0</td>\n",
       "      <td>0</td>\n",
       "      <td>0</td>\n",
       "      <td>0</td>\n",
       "      <td>0</td>\n",
       "      <td>0</td>\n",
       "      <td>0</td>\n",
       "      <td>0</td>\n",
       "    </tr>\n",
       "    <tr>\n",
       "      <th>4</th>\n",
       "      <td>9</td>\n",
       "      <td>0</td>\n",
       "      <td>0</td>\n",
       "      <td>0</td>\n",
       "      <td>0</td>\n",
       "      <td>0</td>\n",
       "      <td>0</td>\n",
       "      <td>0</td>\n",
       "      <td>0</td>\n",
       "      <td>0</td>\n",
       "      <td>...</td>\n",
       "      <td>0</td>\n",
       "      <td>0</td>\n",
       "      <td>0</td>\n",
       "      <td>0</td>\n",
       "      <td>0</td>\n",
       "      <td>0</td>\n",
       "      <td>0</td>\n",
       "      <td>0</td>\n",
       "      <td>0</td>\n",
       "      <td>0</td>\n",
       "    </tr>\n",
       "  </tbody>\n",
       "</table>\n",
       "<p>5 rows × 785 columns</p>\n",
       "</div>"
      ],
      "text/plain": [
       "   label  1x1  1x2  1x3  1x4  1x5  1x6  1x7  1x8  1x9  ...  28x19  28x20  \\\n",
       "0      5    0    0    0    0    0    0    0    0    0  ...      0      0   \n",
       "1      0    0    0    0    0    0    0    0    0    0  ...      0      0   \n",
       "2      4    0    0    0    0    0    0    0    0    0  ...      0      0   \n",
       "3      1    0    0    0    0    0    0    0    0    0  ...      0      0   \n",
       "4      9    0    0    0    0    0    0    0    0    0  ...      0      0   \n",
       "\n",
       "   28x21  28x22  28x23  28x24  28x25  28x26  28x27  28x28  \n",
       "0      0      0      0      0      0      0      0      0  \n",
       "1      0      0      0      0      0      0      0      0  \n",
       "2      0      0      0      0      0      0      0      0  \n",
       "3      0      0      0      0      0      0      0      0  \n",
       "4      0      0      0      0      0      0      0      0  \n",
       "\n",
       "[5 rows x 785 columns]"
      ]
     },
     "execution_count": 3,
     "metadata": {},
     "output_type": "execute_result"
    }
   ],
   "source": [
    "#입력 자료형과 정답 확인\n",
    "train.head()"
   ]
  },
  {
   "cell_type": "code",
   "execution_count": 4,
   "metadata": {
    "colab": {
     "base_uri": "https://localhost:8080/",
     "height": 444
    },
    "executionInfo": {
     "elapsed": 710,
     "status": "ok",
     "timestamp": 1694513431320,
     "user": {
      "displayName": "류현승",
      "userId": "08358934389582979220"
     },
     "user_tz": -540
    },
    "id": "Mioi3ItrfDzz",
    "outputId": "47ced833-33f6-40d5-f321-0cc8e57d7b3b"
   },
   "outputs": [
    {
     "data": {
      "text/plain": [
       "<Axes: xlabel='label'>"
      ]
     },
     "execution_count": 4,
     "metadata": {},
     "output_type": "execute_result"
    },
    {
     "data": {
      "image/png": "[encoded data removed]",
      "text/plain": [
       "<Figure size 640x480 with 1 Axes>"
      ]
     },
     "metadata": {},
     "output_type": "display_data"
    }
   ],
   "source": [
    "#클래스(정답) 간의 불균형은 없는지 확인하기\n",
    "train['label'].value_counts()\n",
    "train['label'].value_counts().sort_index() #인덱스로 정렬하여 보여주기 .sort_index()\n",
    "train['label'].value_counts().plot(kind='bar') #막대 그래프로 보여주기 .plot(kind='bar')"
   ]
  },
  {
   "cell_type": "code",
   "execution_count": 5,
   "metadata": {
    "colab": {
     "base_uri": "https://localhost:8080/"
    },
    "executionInfo": {
     "elapsed": 2659,
     "status": "ok",
     "timestamp": 1694513434249,
     "user": {
      "displayName": "류현승",
      "userId": "08358934389582979220"
     },
     "user_tz": -540
    },
    "id": "ttuJoWgagjfz",
    "outputId": "7952f6cf-5255-41c4-cab2-536bb22ffdb4"
   },
   "outputs": [
    {
     "name": "stdout",
     "output_type": "stream",
     "text": [
      "<class 'pandas.core.frame.DataFrame'>\n",
      "RangeIndex: 60000 entries, 0 to 59999\n",
      "Columns: 785 entries, label to 28x28\n",
      "dtypes: int64(785)\n",
      "memory usage: 359.3 MB\n"
     ]
    },
    {
     "data": {
      "text/plain": [
       "0"
      ]
     },
     "execution_count": 5,
     "metadata": {},
     "output_type": "execute_result"
    }
   ],
   "source": [
    " #누락된 데이터 혹은 자료형에 맞지 않는 데이터가 포함되어 있는지 확인하기\n",
    "train.info()\n",
    "train.describe()\n",
    "train.isnull().sum().sum()"
   ]
  },
  {
   "cell_type": "code",
   "execution_count": 6,
   "metadata": {
    "colab": {
     "base_uri": "https://localhost:8080/",
     "height": 311
    },
    "executionInfo": {
     "elapsed": 418,
     "status": "ok",
     "timestamp": 1694513435521,
     "user": {
      "displayName": "류현승",
      "userId": "08358934389582979220"
     },
     "user_tz": -540
    },
    "id": "RyjA-rzzh5wG",
    "outputId": "82ae6ac5-e256-4ec9-8388-87bbfe5c8811"
   },
   "outputs": [
    {
     "data": {
      "text/plain": [
       "<matplotlib.image.AxesImage at 0x2077d14b9d0>"
      ]
     },
     "execution_count": 6,
     "metadata": {},
     "output_type": "execute_result"
    },
    {
     "data": {
      "image/png": "[encoded data removed]",
      "text/plain": [
       "<Figure size 300x300 with 1 Axes>"
      ]
     },
     "metadata": {},
     "output_type": "display_data"
    }
   ],
   "source": [
    "#이미지 확인하기\n",
    "#2차원 넘파이 데이터로 변환하기\n",
    "sample = train.iloc[0][1:]\n",
    "sample.shape\n",
    "sample_numpy = sample.to_numpy()\n",
    "sample_numpy.shape\n",
    "sample_numpy_2D = sample_numpy.reshape(28,28)\n",
    "sample_numpy_2D.shape\n",
    "#이미지로 출력하기\n",
    "plt.figure(figsize=(3,3))\n",
    "plt.imshow(sample_numpy_2D)\n",
    "plt.imshow(sample_numpy_2D, cmap=plt.cm.gray_r, interpolation = \"nearest\")"
   ]
  },
  {
   "cell_type": "code",
   "execution_count": 7,
   "metadata": {
    "colab": {
     "base_uri": "https://localhost:8080/",
     "height": 1000
    },
    "executionInfo": {
     "elapsed": 18037,
     "status": "ok",
     "timestamp": 1694513454664,
     "user": {
      "displayName": "류현승",
      "userId": "08358934389582979220"
     },
     "user_tz": -540
    },
    "id": "Fqfi3o3fj-3s",
    "outputId": "f430e6d2-b91c-40aa-9c6b-0deb9320d323"
   },
   "outputs": [
    {
     "name": "stderr",
     "output_type": "stream",
     "text": [
      "C:\\Users\\rhseung\\AppData\\Local\\Temp\\ipykernel_1676\\373895094.py:15: UserWarning: The figure layout has changed to tight\n",
      "  plt.tight_layout()\n"
     ]
    },
    {
     "data": {
      "image/png": "[encoded data removed]",
      "text/plain": [
       "<Figure size 700x200 with 5 Axes>"
      ]
     },
     "metadata": {},
     "output_type": "display_data"
    },
    {
     "data": {
      "image/png": "[encoded data removed]",
      "text/plain": [
       "<Figure size 700x200 with 5 Axes>"
      ]
     },
     "metadata": {},
     "output_type": "display_data"
    },
    {
     "data": {
      "image/png": "[encoded data removed]",
      "text/plain": [
       "<Figure size 700x200 with 5 Axes>"
      ]
     },
     "metadata": {},
     "output_type": "display_data"
    },
    {
     "data": {
      "image/png": "[encoded data removed]",
      "text/plain": [
       "<Figure size 700x200 with 5 Axes>"
      ]
     },
     "metadata": {},
     "output_type": "display_data"
    },
    {
     "data": {
      "image/png": "[encoded data removed]",
      "text/plain": [
       "<Figure size 700x200 with 5 Axes>"
      ]
     },
     "metadata": {},
     "output_type": "display_data"
    },
    {
     "data": {
      "image/png": "[encoded data removed]",
      "text/plain": [
       "<Figure size 700x200 with 5 Axes>"
      ]
     },
     "metadata": {},
     "output_type": "display_data"
    },
    {
     "data": {
      "image/png": "[encoded data removed]",
      "text/plain": [
       "<Figure size 700x200 with 5 Axes>"
      ]
     },
     "metadata": {},
     "output_type": "display_data"
    },
    {
     "data": {
      "image/png": "[encoded data removed]",
      "text/plain": [
       "<Figure size 700x200 with 5 Axes>"
      ]
     },
     "metadata": {},
     "output_type": "display_data"
    },
    {
     "data": {
      "image/png": "[encoded data removed]",
      "text/plain": [
       "<Figure size 700x200 with 5 Axes>"
      ]
     },
     "metadata": {},
     "output_type": "display_data"
    },
    {
     "data": {
      "image/png": "[encoded data removed]",
      "text/plain": [
       "<Figure size 700x200 with 5 Axes>"
      ]
     },
     "metadata": {},
     "output_type": "display_data"
    }
   ],
   "source": [
    "#각 클래스별 데이터 5개씩 출력해보기\n",
    "import random\n",
    "\n",
    "for i in range(10):\n",
    "    train_ = train[train['label']==i]\n",
    "    ends = len(train_)\n",
    "    ids = random.sample(range(0,ends), 5)\n",
    "\n",
    "    plt.figure(figsize=(7,2))\n",
    "    for i, j in enumerate(ids):\n",
    "        plt.subplot(1,5,i+1)\n",
    "        image = train_.iloc[j][1:].to_numpy().reshape(28,28)\n",
    "        plt.title(train_.iloc[j][0])\n",
    "        plt.imshow(image, cmap=plt.cm.gray_r, interpolation = \"nearest\")\n",
    "        plt.tight_layout()"
   ]
  },
  {
   "cell_type": "markdown",
   "metadata": {
    "id": "eQj--WPTm5Vk"
   },
   "source": [
    "# 3. 데이터 전처리\n",
    "\n",
    "\n",
    "*   학습에 필요한 데이터가 부족하다면 데이터 증강하기\n",
    "*   데이터를 정규화해서 값의 범위 맞추기\n",
    "*   문제 데이터, 정답 데이터 분리\n",
    "*   학습 데이터, 검증 데이터, 테스트 데이터 분리 : 클래스별 균형 맞추기\n",
    "\n"
   ]
  },
  {
   "cell_type": "code",
   "execution_count": 8,
   "metadata": {
    "executionInfo": {
     "elapsed": 4,
     "status": "ok",
     "timestamp": 1694513454665,
     "user": {
      "displayName": "류현승",
      "userId": "08358934389582979220"
     },
     "user_tz": -540
    },
    "id": "quih28v7nQcf"
   },
   "outputs": [],
   "source": [
    "# 문제 데이터와 정답 데이터 분리\n",
    "train_X = train.iloc[:,1:].values\n",
    "train_Y = train.iloc[:,0].values\n",
    "test_X = test.iloc[:,1:].values\n",
    "test_Y = test.iloc[:,0].values"
   ]
  },
  {
   "cell_type": "code",
   "execution_count": 9,
   "metadata": {
    "colab": {
     "base_uri": "https://localhost:8080/"
    },
    "executionInfo": {
     "elapsed": 701,
     "status": "ok",
     "timestamp": 1694513455363,
     "user": {
      "displayName": "류현승",
      "userId": "08358934389582979220"
     },
     "user_tz": -540
    },
    "id": "cctN8IirosrF",
    "outputId": "e8725397-ce89-40b8-fcec-a31558cf03d3"
   },
   "outputs": [
    {
     "data": {
      "text/plain": [
       "array([[0., 0., 0., ..., 0., 0., 0.],\n",
       "       [0., 0., 0., ..., 0., 0., 0.],\n",
       "       [0., 0., 0., ..., 0., 0., 0.],\n",
       "       ...,\n",
       "       [0., 0., 0., ..., 0., 0., 0.],\n",
       "       [0., 0., 0., ..., 0., 0., 0.],\n",
       "       [0., 0., 0., ..., 0., 0., 0.]])"
      ]
     },
     "execution_count": 9,
     "metadata": {},
     "output_type": "execute_result"
    }
   ],
   "source": [
    "#데이터 정규화\n",
    "train_X, test_X = train_X / 255.0, test_X / 255.0\n",
    "train_X"
   ]
  },
  {
   "cell_type": "code",
   "execution_count": 10,
   "metadata": {
    "executionInfo": {
     "elapsed": 2230,
     "status": "ok",
     "timestamp": 1694513457589,
     "user": {
      "displayName": "류현승",
      "userId": "08358934389582979220"
     },
     "user_tz": -540
    },
    "id": "1mPRysu--Gk7"
   },
   "outputs": [],
   "source": [
    "#학습 데이터와 검증 데이터 분리\n",
    "from sklearn.model_selection import train_test_split\n",
    "\n",
    "X_train, X_valid, y_train, y_valid = train_test_split(train_X, train_Y, test_size=0.2, stratify=train_Y, random_state=42 )"
   ]
  },
  {
   "cell_type": "code",
   "execution_count": 11,
   "metadata": {},
   "outputs": [
    {
     "data": {
      "text/plain": [
       "((48000, 784), (12000, 784), (48000,), (12000,))"
      ]
     },
     "execution_count": 11,
     "metadata": {},
     "output_type": "execute_result"
    }
   ],
   "source": [
    "X_train.shape, X_valid.shape, y_train.shape, y_valid.shape"
   ]
  },
  {
   "cell_type": "code",
   "execution_count": 12,
   "metadata": {},
   "outputs": [
    {
     "data": {
      "text/plain": [
       "numpy.ndarray"
      ]
     },
     "execution_count": 12,
     "metadata": {},
     "output_type": "execute_result"
    }
   ],
   "source": [
    "type(X_train)"
   ]
  },
  {
   "cell_type": "markdown",
   "metadata": {
    "id": "0wyhG73X6esi"
   },
   "source": [
    "# 4. 모델 설계 및 학습\n",
    "\n",
    "(모델 설계)\n",
    "*   문제의 복잡성, 사용 가능한 데이터의 양 및 종류, 예측이나 분류의 목표 등에 따라 적합한 머신러닝 기법과 모델은 다양하게 변할 수 있다.\n",
    "*  데이터의 공간 정보가 중요하면 합성곱 적용하기\n",
    "*  데이터의 순서 정보가 중요하다면 RNN 적용하기\n",
    "\n",
    "(모델 학습)  \n",
    "*   적합한 손실 함수 찾기\n",
    "*   가중치 수정을 위한 최적화 정하기\n",
    "*   평가지표 정하기  \n",
    "\n",
    "\n"
   ]
  },
  {
   "cell_type": "markdown",
   "metadata": {
    "id": "Mv3AOCio9GoL"
   },
   "source": [
    "## 4.1. 머신러닝 - 랜덤 포레스트 알고리즘 적용"
   ]
  },
  {
   "cell_type": "code",
   "execution_count": 13,
   "metadata": {
    "id": "g-_hkZu09mrp"
   },
   "outputs": [
    {
     "data": {
      "text/html": [
       "<style>#sk-container-id-1 {color: black;}#sk-container-id-1 pre{padding: 0;}#sk-container-id-1 div.sk-toggleable {background-color: white;}#sk-container-id-1 label.sk-toggleable__label {cursor: pointer;display: block;width: 100%;margin-bottom: 0;padding: 0.3em;box-sizing: border-box;text-align: center;}#sk-container-id-1 label.sk-toggleable__label-arrow:before {content: \"▸\";float: left;margin-right: 0.25em;color: #696969;}#sk-container-id-1 label.sk-toggleable__label-arrow:hover:before {color: black;}#sk-container-id-1 div.sk-estimator:hover label.sk-toggleable__label-arrow:before {color: black;}#sk-container-id-1 div.sk-toggleable__content {max-height: 0;max-width: 0;overflow: hidden;text-align: left;background-color: #f0f8ff;}#sk-container-id-1 div.sk-toggleable__content pre {margin: 0.2em;color: black;border-radius: 0.25em;background-color: #f0f8ff;}#sk-container-id-1 input.sk-toggleable__control:checked~div.sk-toggleable__content {max-height: 200px;max-width: 100%;overflow: auto;}#sk-container-id-1 input.sk-toggleable__control:checked~label.sk-toggleable__label-arrow:before {content: \"▾\";}#sk-container-id-1 div.sk-estimator input.sk-toggleable__control:checked~label.sk-toggleable__label {background-color: #d4ebff;}#sk-container-id-1 div.sk-label input.sk-toggleable__control:checked~label.sk-toggleable__label {background-color: #d4ebff;}#sk-container-id-1 input.sk-hidden--visually {border: 0;clip: rect(1px 1px 1px 1px);clip: rect(1px, 1px, 1px, 1px);height: 1px;margin: -1px;overflow: hidden;padding: 0;position: absolute;width: 1px;}#sk-container-id-1 div.sk-estimator {font-family: monospace;background-color: #f0f8ff;border: 1px dotted black;border-radius: 0.25em;box-sizing: border-box;margin-bottom: 0.5em;}#sk-container-id-1 div.sk-estimator:hover {background-color: #d4ebff;}#sk-container-id-1 div.sk-parallel-item::after {content: \"\";width: 100%;border-bottom: 1px solid gray;flex-grow: 1;}#sk-container-id-1 div.sk-label:hover label.sk-toggleable__label {background-color: #d4ebff;}#sk-container-id-1 div.sk-serial::before {content: \"\";position: absolute;border-left: 1px solid gray;box-sizing: border-box;top: 0;bottom: 0;left: 50%;z-index: 0;}#sk-container-id-1 div.sk-serial {display: flex;flex-direction: column;align-items: center;background-color: white;padding-right: 0.2em;padding-left: 0.2em;position: relative;}#sk-container-id-1 div.sk-item {position: relative;z-index: 1;}#sk-container-id-1 div.sk-parallel {display: flex;align-items: stretch;justify-content: center;background-color: white;position: relative;}#sk-container-id-1 div.sk-item::before, #sk-container-id-1 div.sk-parallel-item::before {content: \"\";position: absolute;border-left: 1px solid gray;box-sizing: border-box;top: 0;bottom: 0;left: 50%;z-index: -1;}#sk-container-id-1 div.sk-parallel-item {display: flex;flex-direction: column;z-index: 1;position: relative;background-color: white;}#sk-container-id-1 div.sk-parallel-item:first-child::after {align-self: flex-end;width: 50%;}#sk-container-id-1 div.sk-parallel-item:last-child::after {align-self: flex-start;width: 50%;}#sk-container-id-1 div.sk-parallel-item:only-child::after {width: 0;}#sk-container-id-1 div.sk-dashed-wrapped {border: 1px dashed gray;margin: 0 0.4em 0.5em 0.4em;box-sizing: border-box;padding-bottom: 0.4em;background-color: white;}#sk-container-id-1 div.sk-label label {font-family: monospace;font-weight: bold;display: inline-block;line-height: 1.2em;}#sk-container-id-1 div.sk-label-container {text-align: center;}#sk-container-id-1 div.sk-container {/* jupyter's `normalize.less` sets `[hidden] { display: none; }` but bootstrap.min.css set `[hidden] { display: none !important; }` so we also need the `!important` here to be able to override the default hidden behavior on the sphinx rendered scikit-learn.org. See: https://github.com/scikit-learn/scikit-learn/issues/21755 */display: inline-block !important;position: relative;}#sk-container-id-1 div.sk-text-repr-fallback {display: none;}</style><div id=\"sk-container-id-1\" class=\"sk-top-container\"><div class=\"sk-text-repr-fallback\"><pre>RandomForestClassifier()</pre><b>In a Jupyter environment, please rerun this cell to show the HTML representation or trust the notebook. <br />On GitHub, the HTML representation is unable to render, please try loading this page with nbviewer.org.</b></div><div class=\"sk-container\" hidden><div class=\"sk-item\"><div class=\"sk-estimator sk-toggleable\"><input class=\"sk-toggleable__control sk-hidden--visually\" id=\"sk-estimator-id-1\" type=\"checkbox\" checked><label for=\"sk-estimator-id-1\" class=\"sk-toggleable__label sk-toggleable__label-arrow\">RandomForestClassifier</label><div class=\"sk-toggleable__content\"><pre>RandomForestClassifier()</pre></div></div></div></div></div>"
      ],
      "text/plain": [
       "RandomForestClassifier()"
      ]
     },
     "execution_count": 13,
     "metadata": {},
     "output_type": "execute_result"
    }
   ],
   "source": [
    "from sklearn.ensemble import RandomForestClassifier\n",
    "\n",
    "#모델 설계\n",
    "clf = RandomForestClassifier()\n",
    "\n",
    "#학습\n",
    "clf.fit(train_X, train_Y)"
   ]
  },
  {
   "cell_type": "code",
   "execution_count": 15,
   "metadata": {
    "id": "GWXK8AiB-F2i"
   },
   "outputs": [
    {
     "name": "stdout",
     "output_type": "stream",
     "text": [
      "0.9687\n"
     ]
    }
   ],
   "source": [
    "#성능평가\n",
    "prediction = clf.predict(test_X)\n",
    "\n",
    "#평가지표 중 정확도\n",
    "result = (prediction == test_Y).mean()\n",
    "print(result)"
   ]
  },
  {
   "cell_type": "code",
   "execution_count": 17,
   "metadata": {},
   "outputs": [
    {
     "data": {
      "text/plain": [
       "((10000,), (10000,))"
      ]
     },
     "execution_count": 17,
     "metadata": {},
     "output_type": "execute_result"
    }
   ],
   "source": [
    "prediction.shape, test_Y.shape"
   ]
  },
  {
   "cell_type": "code",
   "execution_count": 18,
   "metadata": {
    "id": "yCkinB-gC8xJ"
   },
   "outputs": [
    {
     "name": "stdout",
     "output_type": "stream",
     "text": [
      "              precision    recall  f1-score   support\n",
      "\n",
      "           0       0.97      0.99      0.98       980\n",
      "           1       0.99      0.99      0.99      1135\n",
      "           2       0.96      0.97      0.96      1032\n",
      "           3       0.95      0.96      0.96      1010\n",
      "           4       0.97      0.97      0.97       982\n",
      "           5       0.98      0.96      0.97       892\n",
      "           6       0.97      0.98      0.98       958\n",
      "           7       0.97      0.96      0.97      1028\n",
      "           8       0.96      0.95      0.96       974\n",
      "           9       0.96      0.95      0.95      1009\n",
      "\n",
      "    accuracy                           0.97     10000\n",
      "   macro avg       0.97      0.97      0.97     10000\n",
      "weighted avg       0.97      0.97      0.97     10000\n",
      "\n"
     ]
    }
   ],
   "source": [
    "#분류 성능 평가 지표\n",
    "from sklearn.metrics import classification_report\n",
    "\n",
    "print(classification_report(test_Y, prediction))"
   ]
  },
  {
   "cell_type": "markdown",
   "metadata": {
    "id": "rREXVynADq9Z"
   },
   "source": [
    "## 4.2. LightGBM 알고리즘 적용"
   ]
  },
  {
   "cell_type": "code",
   "execution_count": 20,
   "metadata": {},
   "outputs": [
    {
     "name": "stdout",
     "output_type": "stream",
     "text": [
      "Collecting lightgbm\n",
      "  Obtaining dependency information for lightgbm from https://files.pythonhosted.org/packages/b3/f8/ee33e36194eb03a76eccf3adac3fba51f0e56fbd20609bb531659d48d3cb/lightgbm-4.1.0-py3-none-win_amd64.whl.metadata\n",
      "  Downloading lightgbm-4.1.0-py3-none-win_amd64.whl.metadata (19 kB)\n",
      "Requirement already satisfied: numpy in c:\\users\\rhseung\\appdata\\local\\programs\\python\\python311\\lib\\site-packages (from lightgbm) (1.25.2)\n",
      "Requirement already satisfied: scipy in c:\\users\\rhseung\\appdata\\local\\programs\\python\\python311\\lib\\site-packages (from lightgbm) (1.11.2)\n",
      "Downloading lightgbm-4.1.0-py3-none-win_amd64.whl (1.3 MB)\n",
      "   ---------------------------------------- 0.0/1.3 MB ? eta -:--:--\n",
      "   -- ------------------------------------- 0.1/1.3 MB 5.5 MB/s eta 0:00:01\n",
      "   -------------- ------------------------- 0.5/1.3 MB 5.1 MB/s eta 0:00:01\n",
      "   -------------------------- ------------- 0.9/1.3 MB 6.9 MB/s eta 0:00:01\n",
      "   ---------------------------------------  1.3/1.3 MB 7.6 MB/s eta 0:00:01\n",
      "   ---------------------------------------- 1.3/1.3 MB 7.0 MB/s eta 0:00:00\n",
      "Installing collected packages: lightgbm\n",
      "Successfully installed lightgbm-4.1.0\n"
     ]
    }
   ],
   "source": [
    "!pip install lightgbm"
   ]
  },
  {
   "cell_type": "code",
   "execution_count": 21,
   "metadata": {
    "id": "oYc6ksX8Du9K"
   },
   "outputs": [
    {
     "name": "stdout",
     "output_type": "stream",
     "text": [
      "[LightGBM] [Info] Auto-choosing col-wise multi-threading, the overhead of testing was 0.174765 seconds.\n",
      "You can set `force_col_wise=true` to remove the overhead.\n",
      "[LightGBM] [Info] Total Bins 109606\n",
      "[LightGBM] [Info] Number of data points in the train set: 60000, number of used features: 629\n",
      "[LightGBM] [Info] Start training from score -2.315501\n",
      "[LightGBM] [Info] Start training from score -2.185988\n",
      "[LightGBM] [Info] Start training from score -2.309610\n",
      "[LightGBM] [Info] Start training from score -2.280987\n",
      "[LightGBM] [Info] Start training from score -2.329271\n",
      "[LightGBM] [Info] Start training from score -2.404064\n",
      "[LightGBM] [Info] Start training from score -2.316346\n",
      "[LightGBM] [Info] Start training from score -2.259366\n",
      "[LightGBM] [Info] Start training from score -2.327732\n",
      "[LightGBM] [Info] Start training from score -2.311121\n",
      "0.9774\n",
      "              precision    recall  f1-score   support\n",
      "\n",
      "           0       0.98      0.99      0.98       980\n",
      "           1       0.99      0.99      0.99      1135\n",
      "           2       0.97      0.98      0.97      1032\n",
      "           3       0.97      0.98      0.98      1010\n",
      "           4       0.98      0.98      0.98       982\n",
      "           5       0.98      0.97      0.97       892\n",
      "           6       0.98      0.98      0.98       958\n",
      "           7       0.98      0.97      0.97      1028\n",
      "           8       0.96      0.98      0.97       974\n",
      "           9       0.97      0.97      0.97      1009\n",
      "\n",
      "    accuracy                           0.98     10000\n",
      "   macro avg       0.98      0.98      0.98     10000\n",
      "weighted avg       0.98      0.98      0.98     10000\n",
      "\n"
     ]
    }
   ],
   "source": [
    "from lightgbm import LGBMClassifier\n",
    "\n",
    "clf2 = LGBMClassifier()\n",
    "clf2.fit(train_X, train_Y)\n",
    "\n",
    "prediction2 = clf2.predict(test_X)\n",
    "result = (prediction2 == test_Y).mean()\n",
    "print(result)\n",
    "\n",
    "print(classification_report(test_Y, prediction2))"
   ]
  },
  {
   "cell_type": "markdown",
   "metadata": {
    "id": "pZMJsLScGTKz"
   },
   "source": [
    "## 4.3. 신경망"
   ]
  },
  {
   "cell_type": "code",
   "execution_count": null,
   "metadata": {
    "id": "UrbZhwhKGZ5z"
   },
   "outputs": [],
   "source": [
    "#torchvision에서는 데이터셋을 제공해줌\n",
    "\n",
    "# from torchvision.datasets.mnist import MNIST\n",
    "# from torchvision.transforms import ToTensor\n",
    "# from torch.utils.data.dataloader import DataLoader\n",
    "\n",
    "# training_data = MNIST(root=\"/content\", train=True, download=True, transform=ToTensor())\n",
    "# test_data =  MNIST(root=\"/content\", train=False, download=True, transform=ToTensor())\n",
    "\n",
    "# train_loader = DataLoader(training_data, batch_size=32, shuffle=True)\n",
    "# test_loader = DataLoader(test_data, batch_size=32, shuffle=False)"
   ]
  },
  {
   "cell_type": "markdown",
   "metadata": {
    "id": "eIaJ2RI5TTwO"
   },
   "source": [
    "#### 1) 학습 데이터셋 구성"
   ]
  },
  {
   "cell_type": "code",
   "execution_count": 14,
   "metadata": {
    "executionInfo": {
     "elapsed": 3964,
     "status": "ok",
     "timestamp": 1694513461548,
     "user": {
      "displayName": "류현승",
      "userId": "08358934389582979220"
     },
     "user_tz": -540
    },
    "id": "P4HU-W23Nzah"
   },
   "outputs": [],
   "source": [
    "#csv -> padas 데이터프레임 -> numpy 데이터로 변환한 데이터를 활용하는 경우\n",
    "import torch\n",
    "from torch.utils.data import Dataset, DataLoader\n",
    "\n",
    "#커스텀 Dataset 정의\n",
    "class myDataset(Dataset):\n",
    "    def __init__(self, X, Y):\n",
    "        self.X = X\n",
    "        self.Y = Y\n",
    "    def __len__(self):\n",
    "        return len(self.X)\n",
    "    def __getitem__(self, idx):\n",
    "        features = self.X[idx]\n",
    "        target = self.Y[idx]\n",
    "        return torch.tensor(features, dtype=torch.float32), torch.tensor(target, dtype=torch.long)\n",
    "\n",
    "#X_train, X_valid, y_train, y_valid\n",
    "train_dataset = myDataset(X_train, y_train)\n",
    "valid_dataset = myDataset(X_valid, y_valid)\n",
    "test_dataset = myDataset(test_X, test_Y)\n",
    "#Dataset을 DataLoader로 변환\n",
    "batch_size = 32\n",
    "train_dataloader = DataLoader(train_dataset, batch_size=32, shuffle=True)\n",
    "valid_dataloader = DataLoader(valid_dataset, batch_size=32, shuffle=True)\n",
    "test_dataloader = DataLoader(test_dataset, batch_size=32)"
   ]
  },
  {
   "cell_type": "code",
   "execution_count": 15,
   "metadata": {
    "colab": {
     "base_uri": "https://localhost:8080/"
    },
    "executionInfo": {
     "elapsed": 8,
     "status": "ok",
     "timestamp": 1694513461549,
     "user": {
      "displayName": "류현승",
      "userId": "08358934389582979220"
     },
     "user_tz": -540
    },
    "id": "r_5jBSupSZlk",
    "outputId": "8494c3cb-c68e-41b7-c25a-3f9574554701"
   },
   "outputs": [
    {
     "name": "stdout",
     "output_type": "stream",
     "text": [
      "torch.Size([32, 784])\n",
      "torch.Size([32])\n"
     ]
    }
   ],
   "source": [
    "for data, label in test_dataloader:\n",
    "    print(data.shape)\n",
    "    print(label.shape)\n",
    "    break"
   ]
  },
  {
   "cell_type": "markdown",
   "metadata": {
    "id": "tuU2j114TeEP"
   },
   "source": [
    "### 2) 모델 설계 및 학습"
   ]
  },
  {
   "cell_type": "markdown",
   "metadata": {
    "id": "l4PJUNYL_Jnt"
   },
   "source": [
    "#### 기본 코드"
   ]
  },
  {
   "cell_type": "code",
   "execution_count": 18,
   "metadata": {
    "colab": {
     "base_uri": "https://localhost:8080/"
    },
    "executionInfo": {
     "elapsed": 13794,
     "status": "ok",
     "timestamp": 1694513489862,
     "user": {
      "displayName": "류현승",
      "userId": "08358934389582979220"
     },
     "user_tz": -540
    },
    "id": "aqfX-eDwalA2",
    "outputId": "74eed3be-5f82-4da2-8dcb-69769db4a9f6"
   },
   "outputs": [
    {
     "name": "stdout",
     "output_type": "stream",
     "text": [
      "Collecting torchmetrics\n",
      "  Using cached torchmetrics-1.1.2-py3-none-any.whl (764 kB)\n",
      "Requirement already satisfied: numpy>1.20.0 in /usr/local/lib/python3.10/dist-packages (from torchmetrics) (1.23.5)\n",
      "Requirement already satisfied: torch>=1.8.1 in /usr/local/lib/python3.10/dist-packages (from torchmetrics) (2.0.1+cu118)\n",
      "Collecting lightning-utilities>=0.8.0 (from torchmetrics)\n",
      "  Using cached lightning_utilities-0.9.0-py3-none-any.whl (23 kB)\n",
      "Requirement already satisfied: packaging>=17.1 in /usr/local/lib/python3.10/dist-packages (from lightning-utilities>=0.8.0->torchmetrics) (23.1)\n",
      "Requirement already satisfied: typing-extensions in /usr/local/lib/python3.10/dist-packages (from lightning-utilities>=0.8.0->torchmetrics) (4.5.0)\n",
      "Requirement already satisfied: filelock in /usr/local/lib/python3.10/dist-packages (from torch>=1.8.1->torchmetrics) (3.12.2)\n",
      "Requirement already satisfied: sympy in /usr/local/lib/python3.10/dist-packages (from torch>=1.8.1->torchmetrics) (1.12)\n",
      "Requirement already satisfied: networkx in /usr/local/lib/python3.10/dist-packages (from torch>=1.8.1->torchmetrics) (3.1)\n",
      "Requirement already satisfied: jinja2 in /usr/local/lib/python3.10/dist-packages (from torch>=1.8.1->torchmetrics) (3.1.2)\n",
      "Requirement already satisfied: triton==2.0.0 in /usr/local/lib/python3.10/dist-packages (from torch>=1.8.1->torchmetrics) (2.0.0)\n",
      "Requirement already satisfied: cmake in /usr/local/lib/python3.10/dist-packages (from triton==2.0.0->torch>=1.8.1->torchmetrics) (3.27.4.1)\n",
      "Requirement already satisfied: lit in /usr/local/lib/python3.10/dist-packages (from triton==2.0.0->torch>=1.8.1->torchmetrics) (16.0.6)\n",
      "Requirement already satisfied: MarkupSafe>=2.0 in /usr/local/lib/python3.10/dist-packages (from jinja2->torch>=1.8.1->torchmetrics) (2.1.3)\n",
      "Requirement already satisfied: mpmath>=0.19 in /usr/local/lib/python3.10/dist-packages (from sympy->torch>=1.8.1->torchmetrics) (1.3.0)\n",
      "Installing collected packages: lightning-utilities, torchmetrics\n",
      "Successfully installed lightning-utilities-0.9.0 torchmetrics-1.1.2\n"
     ]
    }
   ],
   "source": [
    "!pip install torchmetrics"
   ]
  },
  {
   "cell_type": "code",
   "execution_count": 17,
   "metadata": {
    "colab": {
     "base_uri": "https://localhost:8080/",
     "height": 399
    },
    "executionInfo": {
     "elapsed": 420,
     "status": "error",
     "timestamp": 1694513469936,
     "user": {
      "displayName": "류현승",
      "userId": "08358934389582979220"
     },
     "user_tz": -540
    },
    "id": "Ql_UlK_C_OMC",
    "outputId": "ca035786-3f6e-4de8-9ab2-d10ce1c3d38e"
   },
   "outputs": [
    {
     "ename": "ModuleNotFoundError",
     "evalue": "ignored",
     "output_type": "error",
     "traceback": [
      "\u001b[0;31m---------------------------------------------------------------------------\u001b[0m",
      "\u001b[0;31mModuleNotFoundError\u001b[0m                       Traceback (most recent call last)",
      "\u001b[0;32m<ipython-input-17-72021fb42e6e>\u001b[0m in \u001b[0;36m<cell line: 4>\u001b[0;34m()\u001b[0m\n\u001b[1;32m      2\u001b[0m \u001b[0;32mimport\u001b[0m \u001b[0mtorch\u001b[0m\u001b[0;34m.\u001b[0m\u001b[0mnn\u001b[0m \u001b[0;32mas\u001b[0m \u001b[0mnn\u001b[0m\u001b[0;34m\u001b[0m\u001b[0;34m\u001b[0m\u001b[0m\n\u001b[1;32m      3\u001b[0m \u001b[0;32mfrom\u001b[0m \u001b[0mtorch\u001b[0m\u001b[0;34m.\u001b[0m\u001b[0moptim\u001b[0m\u001b[0;34m.\u001b[0m\u001b[0madam\u001b[0m \u001b[0;32mimport\u001b[0m \u001b[0mAdam\u001b[0m\u001b[0;34m\u001b[0m\u001b[0;34m\u001b[0m\u001b[0m\n\u001b[0;32m----> 4\u001b[0;31m \u001b[0;32mimport\u001b[0m \u001b[0mtorchmetrics\u001b[0m\u001b[0;34m\u001b[0m\u001b[0;34m\u001b[0m\u001b[0m\n\u001b[0m\u001b[1;32m      5\u001b[0m \u001b[0mdevice\u001b[0m \u001b[0;34m=\u001b[0m \u001b[0;34m'cuda'\u001b[0m \u001b[0;32mif\u001b[0m \u001b[0mtorch\u001b[0m\u001b[0;34m.\u001b[0m\u001b[0mcuda\u001b[0m\u001b[0;34m.\u001b[0m\u001b[0mis_available\u001b[0m\u001b[0;34m(\u001b[0m\u001b[0;34m)\u001b[0m \u001b[0;32melse\u001b[0m \u001b[0;34m'cpu'\u001b[0m\u001b[0;34m\u001b[0m\u001b[0;34m\u001b[0m\u001b[0m\n\u001b[1;32m      6\u001b[0m \u001b[0mmetric\u001b[0m \u001b[0;34m=\u001b[0m \u001b[0mtorchmetrics\u001b[0m\u001b[0;34m.\u001b[0m\u001b[0mAccuracy\u001b[0m\u001b[0;34m(\u001b[0m\u001b[0mtask\u001b[0m\u001b[0;34m=\u001b[0m\u001b[0;34m\"multiclass\"\u001b[0m\u001b[0;34m,\u001b[0m \u001b[0mnum_classes\u001b[0m\u001b[0;34m=\u001b[0m\u001b[0;36m10\u001b[0m\u001b[0;34m)\u001b[0m\u001b[0;34m.\u001b[0m\u001b[0mto\u001b[0m\u001b[0;34m(\u001b[0m\u001b[0mdevice\u001b[0m\u001b[0;34m)\u001b[0m\u001b[0;34m\u001b[0m\u001b[0;34m\u001b[0m\u001b[0m\n",
      "\u001b[0;31mModuleNotFoundError\u001b[0m: No module named 'torchmetrics'",
      "",
      "\u001b[0;31m---------------------------------------------------------------------------\u001b[0;32m\nNOTE: If your import is failing due to a missing package, you can\nmanually install dependencies using either !pip or !apt.\n\nTo view examples of installing some common dependencies, click the\n\"Open Examples\" button below.\n\u001b[0;31m---------------------------------------------------------------------------\u001b[0m\n"
     ]
    }
   ],
   "source": [
    "#모델 설계 및 학습\n",
    "import torch.nn as nn\n",
    "from torch.optim.adam import Adam\n",
    "import torchmetrics\n",
    "device = 'cuda' if torch.cuda.is_available() else 'cpu'\n",
    "metric = torchmetrics.Accuracy(task=\"multiclass\", num_classes=10).to(device)\n",
    "\n",
    "model = nn.Sequential(\n",
    "    nn.Linear(784, 64),\n",
    "    nn.ReLU(),\n",
    "    nn.Linear(64,64),\n",
    "    nn.ReLU(),\n",
    "    nn.Linear(64,10)\n",
    ").to(device)\n",
    "lr = 1e-3 #학습률\n",
    "optimizer = Adam(model.parameters(), lr=lr) #옵티마이저\n",
    "lossfunction = nn.CrossEntropyLoss()\n",
    "\n",
    "#학습\n",
    "for epoch in range(10):\n",
    "    model.train()\n",
    "    for data, label in train_dataloader:\n",
    "        optimizer.zero_grad()\n",
    "        data = data.to(device)\n",
    "        preds = model(data)\n",
    "        loss = lossfunction(preds, label.to(device))\n",
    "        acc = metric(preds, label.to(device))\n",
    "        loss.backward()\n",
    "        optimizer.step()\n",
    "\n",
    "    print(f\"epoch{epoch+1} loss:{loss.item()}\")\n",
    "\n",
    "#모델 저장하기\n",
    "torch.save(model.state_dict(), \"MNIST.pth\")"
   ]
  },
  {
   "cell_type": "markdown",
   "metadata": {
    "id": "1uo8832kBMXT"
   },
   "source": [
    "#### 확장 : 검증 단계 추가"
   ]
  },
  {
   "cell_type": "code",
   "execution_count": 30,
   "metadata": {
    "colab": {
     "base_uri": "https://localhost:8080/"
    },
    "executionInfo": {
     "elapsed": 58839,
     "status": "ok",
     "timestamp": 1694514367086,
     "user": {
      "displayName": "류현승",
      "userId": "08358934389582979220"
     },
     "user_tz": -540
    },
    "id": "aJCIHpBeRPxL",
    "outputId": "debc5c0c-ea3f-428f-b627-856afeefe56e"
   },
   "outputs": [
    {
     "name": "stdout",
     "output_type": "stream",
     "text": [
      "epoch 1 tra_loss:17.36431\ttra_acc:0.90625\n",
      "        val_loss:2.36112\tval_acc:0.96875\n",
      "epoch 2 tra_loss:7.37763\ttra_acc:0.93750\n",
      "        val_loss:1.55278\tval_acc:0.96875\n",
      "epoch 3 tra_loss:5.28333\ttra_acc:1.00000\n",
      "        val_loss:1.17516\tval_acc:0.96875\n",
      "epoch 4 tra_loss:4.07636\ttra_acc:0.93750\n",
      "        val_loss:0.90769\tval_acc:0.93750\n",
      "epoch 5 tra_loss:3.29696\ttra_acc:1.00000\n",
      "        val_loss:0.74931\tval_acc:1.00000\n",
      "epoch 6 tra_loss:2.80656\ttra_acc:0.93750\n",
      "        val_loss:0.61230\tval_acc:1.00000\n",
      "epoch 7 tra_loss:2.36152\ttra_acc:0.96875\n",
      "        val_loss:0.56240\tval_acc:0.96875\n",
      "epoch 8 tra_loss:1.91199\ttra_acc:1.00000\n",
      "        val_loss:0.46917\tval_acc:1.00000\n",
      "epoch 9 tra_loss:1.72723\ttra_acc:1.00000\n",
      "        val_loss:0.40092\tval_acc:1.00000\n",
      "epoch10 tra_loss:1.49443\ttra_acc:0.96875\n",
      "        val_loss:0.38158\tval_acc:1.00000\n"
     ]
    }
   ],
   "source": [
    "#모델 설계 및 학습\n",
    "import torch.nn as nn\n",
    "from torch.optim.adam import Adam\n",
    "import torchmetrics\n",
    "device = 'cuda' if torch.cuda.is_available() else 'cpu'\n",
    "metric = torchmetrics.Accuracy(task=\"multiclass\", num_classes=10).to(device)\n",
    "\n",
    "model = nn.Sequential(\n",
    "    nn.Linear(784, 64),\n",
    "    nn.ReLU(),\n",
    "    nn.Linear(64,64),\n",
    "    nn.ReLU(),\n",
    "    nn.Linear(64,10)\n",
    ").to(device)\n",
    "\n",
    "lr = 1e-3 #학습률\n",
    "optimizer = Adam(model.parameters(), lr=lr) #옵티마이저\n",
    "lossfunction = nn.CrossEntropyLoss()\n",
    "\n",
    "train_losses = []\n",
    "train_accs = []\n",
    "valid_losses = []\n",
    "valid_accs = []\n",
    "\n",
    "#학습\n",
    "for epoch in range(10):\n",
    "    model.train()\n",
    "\n",
    "    train_loss = 0\n",
    "    train_acc = 0\n",
    "    valid_loss = 0\n",
    "    valid_acc = 0\n",
    "\n",
    "    for data, label in train_dataloader:\n",
    "        data = data.to(device)\n",
    "        label = label.to(device)\n",
    "\n",
    "        optimizer.zero_grad()\n",
    "        preds = model(data)\n",
    "        loss = lossfunction(preds, label)\n",
    "        train_acc = metric(preds, label).item()\n",
    "        train_loss += loss.item() / batch_size\n",
    "        loss.backward()\n",
    "        optimizer.step()\n",
    "\n",
    "    #검증 단계 추가\n",
    "    for data, label in valid_dataloader:\n",
    "        data = data.to(device)\n",
    "        label = label.to(device)\n",
    "\n",
    "        optimizer.zero_grad()\n",
    "        preds = model(data)\n",
    "        loss = lossfunction(preds, label)\n",
    "        valid_acc = metric(preds, label).item()\n",
    "        valid_loss += loss.item() / batch_size\n",
    "        loss.backward()\n",
    "        optimizer.step()\n",
    "\n",
    "    #훈련 loss, 검증 loss 출력\n",
    "    print(f'epoch{epoch+1:2d} tra_loss:{train_loss:.5f}\\ttra_acc:{train_acc:.5f}')\n",
    "    print(f'        val_loss:{valid_loss:.5f}\\tval_acc:{valid_acc:.5f}')\n",
    "\n",
    "    train_losses.append(train_loss)\n",
    "    train_accs.append(train_acc)\n",
    "    valid_losses.append(valid_loss)\n",
    "    valid_accs.append(valid_acc)\n",
    "\n",
    "#모델 저장하기\n",
    "torch.save(model.state_dict(), \"MNIST.pth\")"
   ]
  },
  {
   "cell_type": "markdown",
   "metadata": {
    "id": "GxXsrGKYr3QM"
   },
   "source": [
    "#### 확장 : 시각화"
   ]
  },
  {
   "cell_type": "code",
   "execution_count": 33,
   "metadata": {
    "colab": {
     "base_uri": "https://localhost:8080/",
     "height": 468
    },
    "executionInfo": {
     "elapsed": 766,
     "status": "ok",
     "timestamp": 1694514489335,
     "user": {
      "displayName": "류현승",
      "userId": "08358934389582979220"
     },
     "user_tz": -540
    },
    "id": "VPn4ZIup1NRx",
    "outputId": "8d95074c-de41-446c-e4f7-486587a7cada"
   },
   "outputs": [
    {
     "data": {
      "image/png": "[encoded data removed]",
      "text/plain": [
       "<Figure size 1000x500 with 2 Axes>"
      ]
     },
     "metadata": {},
     "output_type": "display_data"
    }
   ],
   "source": [
    "#정확도와 손실 그래프\n",
    "fig, ax = plt.subplots(1, 2, figsize=(10, 5))\n",
    "\n",
    "ax[0].plot(train_losses, c='orange', label='train loss')\n",
    "ax[0].plot(valid_losses, c='blue', label='valid loss')\n",
    "ax[0].set_title('loss')\n",
    "ax[0].legend()\n",
    "\n",
    "ax[1].plot(train_accs, c='orange', label='train accuracy')\n",
    "ax[1].plot(valid_accs, c='blue', label='valid accuracy')\n",
    "ax[1].set_title('accuracy')\n",
    "ax[1].legend()\n",
    "\n",
    "plt.show()"
   ]
  },
  {
   "cell_type": "code",
   "execution_count": null,
   "metadata": {
    "colab": {
     "base_uri": "https://localhost:8080/"
    },
    "executionInfo": {
     "elapsed": 291,
     "status": "ok",
     "timestamp": 1694487924537,
     "user": {
      "displayName": "류현승",
      "userId": "08358934389582979220"
     },
     "user_tz": -540
    },
    "id": "Okuh5exOWb4u",
    "outputId": "cb016761-33fa-403c-fde3-5fb913c19923"
   },
   "outputs": [
    {
     "name": "stdout",
     "output_type": "stream",
     "text": [
      "Sequential(\n",
      "  (0): Linear(in_features=784, out_features=64, bias=True)\n",
      "  (1): ReLU()\n",
      "  (2): Linear(in_features=64, out_features=64, bias=True)\n",
      "  (3): ReLU()\n",
      "  (4): Linear(in_features=64, out_features=10, bias=True)\n",
      ")\n"
     ]
    }
   ],
   "source": [
    "print(model)"
   ]
  },
  {
   "cell_type": "code",
   "execution_count": null,
   "metadata": {
    "colab": {
     "base_uri": "https://localhost:8080/"
    },
    "executionInfo": {
     "elapsed": 4,
     "status": "ok",
     "timestamp": 1694488042044,
     "user": {
      "displayName": "류현승",
      "userId": "08358934389582979220"
     },
     "user_tz": -540
    },
    "id": "0yB6kN7Au2r2",
    "outputId": "72ec66cf-8879-48d3-ac78-66f819c0bbbc"
   },
   "outputs": [
    {
     "name": "stdout",
     "output_type": "stream",
     "text": [
      "----------------------------------------------------------------\n",
      "        Layer (type)               Output Shape         Param #\n",
      "================================================================\n",
      "            Linear-1               [-1, 32, 64]          50,240\n",
      "              ReLU-2               [-1, 32, 64]               0\n",
      "            Linear-3               [-1, 32, 64]           4,160\n",
      "              ReLU-4               [-1, 32, 64]               0\n",
      "            Linear-5               [-1, 32, 10]             650\n",
      "================================================================\n",
      "Total params: 55,050\n",
      "Trainable params: 55,050\n",
      "Non-trainable params: 0\n",
      "----------------------------------------------------------------\n",
      "Input size (MB): 0.10\n",
      "Forward/backward pass size (MB): 0.06\n",
      "Params size (MB): 0.21\n",
      "Estimated Total Size (MB): 0.37\n",
      "----------------------------------------------------------------\n"
     ]
    }
   ],
   "source": [
    "#모델 요약\n",
    "import torchsummary\n",
    "torchsummary.summary(model, (32, 784))"
   ]
  },
  {
   "cell_type": "code",
   "execution_count": null,
   "metadata": {
    "colab": {
     "base_uri": "https://localhost:8080/"
    },
    "executionInfo": {
     "elapsed": 254,
     "status": "ok",
     "timestamp": 1694488292554,
     "user": {
      "displayName": "류현승",
      "userId": "08358934389582979220"
     },
     "user_tz": -540
    },
    "id": "ZdXoQCRJX04A",
    "outputId": "15535924-dfca-4fe9-c8b4-b254cde712d6"
   },
   "outputs": [
    {
     "data": {
      "text/plain": [
       "<generator object Module.named_parameters at 0x7f8c30cefb50>"
      ]
     },
     "execution_count": 29,
     "metadata": {},
     "output_type": "execute_result"
    }
   ],
   "source": [
    "model.named_parameters()"
   ]
  },
  {
   "cell_type": "code",
   "execution_count": null,
   "metadata": {
    "id": "Z9rwl3iGYLXz"
   },
   "outputs": [],
   "source": [
    "!pip install torchviz"
   ]
  },
  {
   "cell_type": "code",
   "execution_count": null,
   "metadata": {
    "colab": {
     "base_uri": "https://localhost:8080/",
     "height": 1000
    },
    "executionInfo": {
     "elapsed": 302,
     "status": "ok",
     "timestamp": 1694488540714,
     "user": {
      "displayName": "류현승",
      "userId": "08358934389582979220"
     },
     "user_tz": -540
    },
    "id": "vKRRX-05sAGt",
    "outputId": "e0f26e5d-3d33-442f-8e2d-4c1b5d42825c"
   },
   "outputs": [
    {
     "data": {
      "image/svg+xml": [
       "<?xml version=\"1.0\" encoding=\"UTF-8\" standalone=\"no\"?>\n",
       "<!DOCTYPE svg PUBLIC \"-//W3C//DTD SVG 1.1//EN\"\n",
       " \"http://www.w3.org/Graphics/SVG/1.1/DTD/svg11.dtd\">\n",
       "<!-- Generated by graphviz version 2.43.0 (0)\n",
       " -->\n",
       "<!-- Title: %3 Pages: 1 -->\n",
       "<svg width=\"466pt\" height=\"853pt\"\n",
       " viewBox=\"0.00 0.00 466.00 853.00\" xmlns=\"http://www.w3.org/2000/svg\" xmlns:xlink=\"http://www.w3.org/1999/xlink\">\n",
       "<g id=\"graph0\" class=\"graph\" transform=\"scale(1 1) rotate(0) translate(4 849)\">\n",
       "<title>%3</title>\n",
       "<polygon fill=\"white\" stroke=\"transparent\" points=\"-4,4 -4,-849 462,-849 462,4 -4,4\"/>\n",
       "<!-- 140240090120736 -->\n",
       "<g id=\"node1\" class=\"node\">\n",
       "<title>140240090120736</title>\n",
       "<polygon fill=\"#caff70\" stroke=\"black\" points=\"245,-31 174,-31 174,0 245,0 245,-31\"/>\n",
       "<text text-anchor=\"middle\" x=\"209.5\" y=\"-7\" font-family=\"monospace\" font-size=\"10.00\"> (32, 10)</text>\n",
       "</g>\n",
       "<!-- 140240090715696 -->\n",
       "<g id=\"node2\" class=\"node\">\n",
       "<title>140240090715696</title>\n",
       "<polygon fill=\"lightgrey\" stroke=\"black\" points=\"314,-185 105,-185 105,-67 314,-67 314,-185\"/>\n",
       "<text text-anchor=\"middle\" x=\"209.5\" y=\"-173\" font-family=\"monospace\" font-size=\"10.00\">AddmmBackward0</text>\n",
       "<text text-anchor=\"middle\" x=\"209.5\" y=\"-162\" font-family=\"monospace\" font-size=\"10.00\">&#45;&#45;&#45;&#45;&#45;&#45;&#45;&#45;&#45;&#45;&#45;&#45;&#45;&#45;&#45;&#45;&#45;&#45;&#45;&#45;&#45;&#45;&#45;&#45;&#45;&#45;&#45;&#45;&#45;&#45;&#45;&#45;</text>\n",
       "<text text-anchor=\"middle\" x=\"209.5\" y=\"-151\" font-family=\"monospace\" font-size=\"10.00\">alpha &#160;&#160;&#160;&#160;&#160;&#160;&#160;&#160;&#160;&#160;: &#160;&#160;&#160;&#160;&#160;&#160;&#160;&#160;&#160;&#160;&#160;&#160;&#160;1</text>\n",
       "<text text-anchor=\"middle\" x=\"209.5\" y=\"-140\" font-family=\"monospace\" font-size=\"10.00\">beta &#160;&#160;&#160;&#160;&#160;&#160;&#160;&#160;&#160;&#160;&#160;: &#160;&#160;&#160;&#160;&#160;&#160;&#160;&#160;&#160;&#160;&#160;&#160;&#160;1</text>\n",
       "<text text-anchor=\"middle\" x=\"209.5\" y=\"-129\" font-family=\"monospace\" font-size=\"10.00\">mat1 &#160;&#160;&#160;&#160;&#160;&#160;&#160;&#160;&#160;&#160;&#160;: [saved tensor]</text>\n",
       "<text text-anchor=\"middle\" x=\"209.5\" y=\"-118\" font-family=\"monospace\" font-size=\"10.00\">mat1_sym_sizes &#160;: &#160;&#160;&#160;&#160;&#160;&#160;(32, 64)</text>\n",
       "<text text-anchor=\"middle\" x=\"209.5\" y=\"-107\" font-family=\"monospace\" font-size=\"10.00\">mat1_sym_strides: &#160;&#160;&#160;&#160;&#160;&#160;&#160;(64, 1)</text>\n",
       "<text text-anchor=\"middle\" x=\"209.5\" y=\"-96\" font-family=\"monospace\" font-size=\"10.00\">mat2 &#160;&#160;&#160;&#160;&#160;&#160;&#160;&#160;&#160;&#160;&#160;: [saved tensor]</text>\n",
       "<text text-anchor=\"middle\" x=\"209.5\" y=\"-85\" font-family=\"monospace\" font-size=\"10.00\">mat2_sym_sizes &#160;: &#160;&#160;&#160;&#160;&#160;&#160;(64, 10)</text>\n",
       "<text text-anchor=\"middle\" x=\"209.5\" y=\"-74\" font-family=\"monospace\" font-size=\"10.00\">mat2_sym_strides: &#160;&#160;&#160;&#160;&#160;&#160;&#160;(1, 64)</text>\n",
       "</g>\n",
       "<!-- 140240090715696&#45;&gt;140240090120736 -->\n",
       "<g id=\"edge20\" class=\"edge\">\n",
       "<title>140240090715696&#45;&gt;140240090120736</title>\n",
       "<path fill=\"none\" stroke=\"black\" d=\"M209.5,-66.94C209.5,-57.9 209.5,-49 209.5,-41.25\"/>\n",
       "<polygon fill=\"black\" stroke=\"black\" points=\"213,-41.18 209.5,-31.18 206,-41.18 213,-41.18\"/>\n",
       "</g>\n",
       "<!-- 140240090717520 -->\n",
       "<g id=\"node3\" class=\"node\">\n",
       "<title>140240090717520</title>\n",
       "<polygon fill=\"lightgrey\" stroke=\"black\" points=\"114,-251 13,-251 13,-232 114,-232 114,-251\"/>\n",
       "<text text-anchor=\"middle\" x=\"63.5\" y=\"-239\" font-family=\"monospace\" font-size=\"10.00\">AccumulateGrad</text>\n",
       "</g>\n",
       "<!-- 140240090717520&#45;&gt;140240090715696 -->\n",
       "<g id=\"edge1\" class=\"edge\">\n",
       "<title>140240090717520&#45;&gt;140240090715696</title>\n",
       "<path fill=\"none\" stroke=\"black\" d=\"M74.47,-231.97C86.18,-222.87 105.85,-207.58 126.61,-191.44\"/>\n",
       "<polygon fill=\"black\" stroke=\"black\" points=\"128.86,-194.12 134.61,-185.22 124.56,-188.6 128.86,-194.12\"/>\n",
       "</g>\n",
       "<!-- 140240092797008 -->\n",
       "<g id=\"node4\" class=\"node\">\n",
       "<title>140240092797008</title>\n",
       "<polygon fill=\"lightblue\" stroke=\"black\" points=\"86.5,-372 32.5,-372 32.5,-342 86.5,-342 86.5,-372\"/>\n",
       "<text text-anchor=\"middle\" x=\"59.5\" y=\"-360\" font-family=\"monospace\" font-size=\"10.00\">4.bias</text>\n",
       "<text text-anchor=\"middle\" x=\"59.5\" y=\"-349\" font-family=\"monospace\" font-size=\"10.00\"> (10)</text>\n",
       "</g>\n",
       "<!-- 140240092797008&#45;&gt;140240090717520 -->\n",
       "<g id=\"edge2\" class=\"edge\">\n",
       "<title>140240092797008&#45;&gt;140240090717520</title>\n",
       "<path fill=\"none\" stroke=\"black\" d=\"M60.01,-341.63C60.73,-321.21 62.04,-283.81 62.84,-261.24\"/>\n",
       "<polygon fill=\"black\" stroke=\"black\" points=\"66.34,-261.35 63.19,-251.23 59.34,-261.1 66.34,-261.35\"/>\n",
       "</g>\n",
       "<!-- 140240090715504 -->\n",
       "<g id=\"node5\" class=\"node\">\n",
       "<title>140240090715504</title>\n",
       "<polygon fill=\"lightgrey\" stroke=\"black\" points=\"284,-262 135,-262 135,-221 284,-221 284,-262\"/>\n",
       "<text text-anchor=\"middle\" x=\"209.5\" y=\"-250\" font-family=\"monospace\" font-size=\"10.00\">ReluBackward0</text>\n",
       "<text text-anchor=\"middle\" x=\"209.5\" y=\"-239\" font-family=\"monospace\" font-size=\"10.00\">&#45;&#45;&#45;&#45;&#45;&#45;&#45;&#45;&#45;&#45;&#45;&#45;&#45;&#45;&#45;&#45;&#45;&#45;&#45;&#45;&#45;&#45;</text>\n",
       "<text text-anchor=\"middle\" x=\"209.5\" y=\"-228\" font-family=\"monospace\" font-size=\"10.00\">result: [saved tensor]</text>\n",
       "</g>\n",
       "<!-- 140240090715504&#45;&gt;140240090715696 -->\n",
       "<g id=\"edge3\" class=\"edge\">\n",
       "<title>140240090715504&#45;&gt;140240090715696</title>\n",
       "<path fill=\"none\" stroke=\"black\" d=\"M209.5,-220.99C209.5,-213.63 209.5,-204.79 209.5,-195.5\"/>\n",
       "<polygon fill=\"black\" stroke=\"black\" points=\"213,-195.3 209.5,-185.3 206,-195.3 213,-195.3\"/>\n",
       "</g>\n",
       "<!-- 140240090718864 -->\n",
       "<g id=\"node6\" class=\"node\">\n",
       "<title>140240090718864</title>\n",
       "<polygon fill=\"lightgrey\" stroke=\"black\" points=\"314,-416 105,-416 105,-298 314,-298 314,-416\"/>\n",
       "<text text-anchor=\"middle\" x=\"209.5\" y=\"-404\" font-family=\"monospace\" font-size=\"10.00\">AddmmBackward0</text>\n",
       "<text text-anchor=\"middle\" x=\"209.5\" y=\"-393\" font-family=\"monospace\" font-size=\"10.00\">&#45;&#45;&#45;&#45;&#45;&#45;&#45;&#45;&#45;&#45;&#45;&#45;&#45;&#45;&#45;&#45;&#45;&#45;&#45;&#45;&#45;&#45;&#45;&#45;&#45;&#45;&#45;&#45;&#45;&#45;&#45;&#45;</text>\n",
       "<text text-anchor=\"middle\" x=\"209.5\" y=\"-382\" font-family=\"monospace\" font-size=\"10.00\">alpha &#160;&#160;&#160;&#160;&#160;&#160;&#160;&#160;&#160;&#160;: &#160;&#160;&#160;&#160;&#160;&#160;&#160;&#160;&#160;&#160;&#160;&#160;&#160;1</text>\n",
       "<text text-anchor=\"middle\" x=\"209.5\" y=\"-371\" font-family=\"monospace\" font-size=\"10.00\">beta &#160;&#160;&#160;&#160;&#160;&#160;&#160;&#160;&#160;&#160;&#160;: &#160;&#160;&#160;&#160;&#160;&#160;&#160;&#160;&#160;&#160;&#160;&#160;&#160;1</text>\n",
       "<text text-anchor=\"middle\" x=\"209.5\" y=\"-360\" font-family=\"monospace\" font-size=\"10.00\">mat1 &#160;&#160;&#160;&#160;&#160;&#160;&#160;&#160;&#160;&#160;&#160;: [saved tensor]</text>\n",
       "<text text-anchor=\"middle\" x=\"209.5\" y=\"-349\" font-family=\"monospace\" font-size=\"10.00\">mat1_sym_sizes &#160;: &#160;&#160;&#160;&#160;&#160;&#160;(32, 64)</text>\n",
       "<text text-anchor=\"middle\" x=\"209.5\" y=\"-338\" font-family=\"monospace\" font-size=\"10.00\">mat1_sym_strides: &#160;&#160;&#160;&#160;&#160;&#160;&#160;(64, 1)</text>\n",
       "<text text-anchor=\"middle\" x=\"209.5\" y=\"-327\" font-family=\"monospace\" font-size=\"10.00\">mat2 &#160;&#160;&#160;&#160;&#160;&#160;&#160;&#160;&#160;&#160;&#160;: [saved tensor]</text>\n",
       "<text text-anchor=\"middle\" x=\"209.5\" y=\"-316\" font-family=\"monospace\" font-size=\"10.00\">mat2_sym_sizes &#160;: &#160;&#160;&#160;&#160;&#160;&#160;(64, 64)</text>\n",
       "<text text-anchor=\"middle\" x=\"209.5\" y=\"-305\" font-family=\"monospace\" font-size=\"10.00\">mat2_sym_strides: &#160;&#160;&#160;&#160;&#160;&#160;&#160;(1, 64)</text>\n",
       "</g>\n",
       "<!-- 140240090718864&#45;&gt;140240090715504 -->\n",
       "<g id=\"edge4\" class=\"edge\">\n",
       "<title>140240090718864&#45;&gt;140240090715504</title>\n",
       "<path fill=\"none\" stroke=\"black\" d=\"M209.5,-297.92C209.5,-289.07 209.5,-280.26 209.5,-272.36\"/>\n",
       "<polygon fill=\"black\" stroke=\"black\" points=\"213,-272.23 209.5,-262.23 206,-272.23 213,-272.23\"/>\n",
       "</g>\n",
       "<!-- 140240090710608 -->\n",
       "<g id=\"node7\" class=\"node\">\n",
       "<title>140240090710608</title>\n",
       "<polygon fill=\"lightgrey\" stroke=\"black\" points=\"101,-482 0,-482 0,-463 101,-463 101,-482\"/>\n",
       "<text text-anchor=\"middle\" x=\"50.5\" y=\"-470\" font-family=\"monospace\" font-size=\"10.00\">AccumulateGrad</text>\n",
       "</g>\n",
       "<!-- 140240090710608&#45;&gt;140240090718864 -->\n",
       "<g id=\"edge5\" class=\"edge\">\n",
       "<title>140240090710608&#45;&gt;140240090718864</title>\n",
       "<path fill=\"none\" stroke=\"black\" d=\"M62.45,-462.97C75.25,-453.83 96.81,-438.44 119.53,-422.22\"/>\n",
       "<polygon fill=\"black\" stroke=\"black\" points=\"121.83,-424.88 127.94,-416.22 117.77,-419.18 121.83,-424.88\"/>\n",
       "</g>\n",
       "<!-- 140240090152320 -->\n",
       "<g id=\"node8\" class=\"node\">\n",
       "<title>140240090152320</title>\n",
       "<polygon fill=\"lightblue\" stroke=\"black\" points=\"73.5,-603 19.5,-603 19.5,-573 73.5,-573 73.5,-603\"/>\n",
       "<text text-anchor=\"middle\" x=\"46.5\" y=\"-591\" font-family=\"monospace\" font-size=\"10.00\">2.bias</text>\n",
       "<text text-anchor=\"middle\" x=\"46.5\" y=\"-580\" font-family=\"monospace\" font-size=\"10.00\"> (64)</text>\n",
       "</g>\n",
       "<!-- 140240090152320&#45;&gt;140240090710608 -->\n",
       "<g id=\"edge6\" class=\"edge\">\n",
       "<title>140240090152320&#45;&gt;140240090710608</title>\n",
       "<path fill=\"none\" stroke=\"black\" d=\"M47.01,-572.63C47.73,-552.21 49.04,-514.81 49.84,-492.24\"/>\n",
       "<polygon fill=\"black\" stroke=\"black\" points=\"53.34,-492.35 50.19,-482.23 46.34,-492.1 53.34,-492.35\"/>\n",
       "</g>\n",
       "<!-- 140240090716464 -->\n",
       "<g id=\"node9\" class=\"node\">\n",
       "<title>140240090716464</title>\n",
       "<polygon fill=\"lightgrey\" stroke=\"black\" points=\"271,-493 122,-493 122,-452 271,-452 271,-493\"/>\n",
       "<text text-anchor=\"middle\" x=\"196.5\" y=\"-481\" font-family=\"monospace\" font-size=\"10.00\">ReluBackward0</text>\n",
       "<text text-anchor=\"middle\" x=\"196.5\" y=\"-470\" font-family=\"monospace\" font-size=\"10.00\">&#45;&#45;&#45;&#45;&#45;&#45;&#45;&#45;&#45;&#45;&#45;&#45;&#45;&#45;&#45;&#45;&#45;&#45;&#45;&#45;&#45;&#45;</text>\n",
       "<text text-anchor=\"middle\" x=\"196.5\" y=\"-459\" font-family=\"monospace\" font-size=\"10.00\">result: [saved tensor]</text>\n",
       "</g>\n",
       "<!-- 140240090716464&#45;&gt;140240090718864 -->\n",
       "<g id=\"edge7\" class=\"edge\">\n",
       "<title>140240090716464&#45;&gt;140240090718864</title>\n",
       "<path fill=\"none\" stroke=\"black\" d=\"M198.73,-451.99C199.58,-444.63 200.59,-435.79 201.65,-426.5\"/>\n",
       "<polygon fill=\"black\" stroke=\"black\" points=\"205.16,-426.63 202.82,-416.3 198.21,-425.84 205.16,-426.63\"/>\n",
       "</g>\n",
       "<!-- 140240090725344 -->\n",
       "<g id=\"node10\" class=\"node\">\n",
       "<title>140240090725344</title>\n",
       "<polygon fill=\"lightgrey\" stroke=\"black\" points=\"301,-647 92,-647 92,-529 301,-529 301,-647\"/>\n",
       "<text text-anchor=\"middle\" x=\"196.5\" y=\"-635\" font-family=\"monospace\" font-size=\"10.00\">AddmmBackward0</text>\n",
       "<text text-anchor=\"middle\" x=\"196.5\" y=\"-624\" font-family=\"monospace\" font-size=\"10.00\">&#45;&#45;&#45;&#45;&#45;&#45;&#45;&#45;&#45;&#45;&#45;&#45;&#45;&#45;&#45;&#45;&#45;&#45;&#45;&#45;&#45;&#45;&#45;&#45;&#45;&#45;&#45;&#45;&#45;&#45;&#45;&#45;</text>\n",
       "<text text-anchor=\"middle\" x=\"196.5\" y=\"-613\" font-family=\"monospace\" font-size=\"10.00\">alpha &#160;&#160;&#160;&#160;&#160;&#160;&#160;&#160;&#160;&#160;: &#160;&#160;&#160;&#160;&#160;&#160;&#160;&#160;&#160;&#160;&#160;&#160;&#160;1</text>\n",
       "<text text-anchor=\"middle\" x=\"196.5\" y=\"-602\" font-family=\"monospace\" font-size=\"10.00\">beta &#160;&#160;&#160;&#160;&#160;&#160;&#160;&#160;&#160;&#160;&#160;: &#160;&#160;&#160;&#160;&#160;&#160;&#160;&#160;&#160;&#160;&#160;&#160;&#160;1</text>\n",
       "<text text-anchor=\"middle\" x=\"196.5\" y=\"-591\" font-family=\"monospace\" font-size=\"10.00\">mat1 &#160;&#160;&#160;&#160;&#160;&#160;&#160;&#160;&#160;&#160;&#160;: [saved tensor]</text>\n",
       "<text text-anchor=\"middle\" x=\"196.5\" y=\"-580\" font-family=\"monospace\" font-size=\"10.00\">mat1_sym_sizes &#160;: &#160;&#160;&#160;&#160;&#160;(32, 784)</text>\n",
       "<text text-anchor=\"middle\" x=\"196.5\" y=\"-569\" font-family=\"monospace\" font-size=\"10.00\">mat1_sym_strides: &#160;&#160;&#160;&#160;&#160;&#160;&#160;&#160;&#160;&#160;&#160;&#160;()</text>\n",
       "<text text-anchor=\"middle\" x=\"196.5\" y=\"-558\" font-family=\"monospace\" font-size=\"10.00\">mat2 &#160;&#160;&#160;&#160;&#160;&#160;&#160;&#160;&#160;&#160;&#160;: &#160;&#160;&#160;&#160;&#160;&#160;&#160;&#160;&#160;&#160;None</text>\n",
       "<text text-anchor=\"middle\" x=\"196.5\" y=\"-547\" font-family=\"monospace\" font-size=\"10.00\">mat2_sym_sizes &#160;: &#160;&#160;&#160;&#160;&#160;(784, 64)</text>\n",
       "<text text-anchor=\"middle\" x=\"196.5\" y=\"-536\" font-family=\"monospace\" font-size=\"10.00\">mat2_sym_strides: &#160;&#160;&#160;&#160;&#160;&#160;(1, 784)</text>\n",
       "</g>\n",
       "<!-- 140240090725344&#45;&gt;140240090716464 -->\n",
       "<g id=\"edge8\" class=\"edge\">\n",
       "<title>140240090725344&#45;&gt;140240090716464</title>\n",
       "<path fill=\"none\" stroke=\"black\" d=\"M196.5,-528.92C196.5,-520.07 196.5,-511.26 196.5,-503.36\"/>\n",
       "<polygon fill=\"black\" stroke=\"black\" points=\"200,-503.23 196.5,-493.23 193,-503.23 200,-503.23\"/>\n",
       "</g>\n",
       "<!-- 140240090722416 -->\n",
       "<g id=\"node11\" class=\"node\">\n",
       "<title>140240090722416</title>\n",
       "<polygon fill=\"lightgrey\" stroke=\"black\" points=\"180,-707.5 79,-707.5 79,-688.5 180,-688.5 180,-707.5\"/>\n",
       "<text text-anchor=\"middle\" x=\"129.5\" y=\"-695.5\" font-family=\"monospace\" font-size=\"10.00\">AccumulateGrad</text>\n",
       "</g>\n",
       "<!-- 140240090722416&#45;&gt;140240090725344 -->\n",
       "<g id=\"edge9\" class=\"edge\">\n",
       "<title>140240090722416&#45;&gt;140240090725344</title>\n",
       "<path fill=\"none\" stroke=\"black\" d=\"M134.98,-688.16C139.75,-680.48 147.14,-668.56 155.17,-655.63\"/>\n",
       "<polygon fill=\"black\" stroke=\"black\" points=\"158.21,-657.36 160.51,-647.01 152.26,-653.67 158.21,-657.36\"/>\n",
       "</g>\n",
       "<!-- 140240092796528 -->\n",
       "<g id=\"node12\" class=\"node\">\n",
       "<title>140240092796528</title>\n",
       "<polygon fill=\"lightblue\" stroke=\"black\" points=\"156.5,-779 102.5,-779 102.5,-749 156.5,-749 156.5,-779\"/>\n",
       "<text text-anchor=\"middle\" x=\"129.5\" y=\"-767\" font-family=\"monospace\" font-size=\"10.00\">0.bias</text>\n",
       "<text text-anchor=\"middle\" x=\"129.5\" y=\"-756\" font-family=\"monospace\" font-size=\"10.00\"> (64)</text>\n",
       "</g>\n",
       "<!-- 140240092796528&#45;&gt;140240090722416 -->\n",
       "<g id=\"edge10\" class=\"edge\">\n",
       "<title>140240092796528&#45;&gt;140240090722416</title>\n",
       "<path fill=\"none\" stroke=\"black\" d=\"M129.5,-748.8C129.5,-739.7 129.5,-727.79 129.5,-717.9\"/>\n",
       "<polygon fill=\"black\" stroke=\"black\" points=\"133,-717.84 129.5,-707.84 126,-717.84 133,-717.84\"/>\n",
       "</g>\n",
       "<!-- 140240090721552 -->\n",
       "<g id=\"node13\" class=\"node\">\n",
       "<title>140240090721552</title>\n",
       "<polygon fill=\"lightgrey\" stroke=\"black\" points=\"275,-707.5 198,-707.5 198,-688.5 275,-688.5 275,-707.5\"/>\n",
       "<text text-anchor=\"middle\" x=\"236.5\" y=\"-695.5\" font-family=\"monospace\" font-size=\"10.00\">TBackward0</text>\n",
       "</g>\n",
       "<!-- 140240090721552&#45;&gt;140240090725344 -->\n",
       "<g id=\"edge11\" class=\"edge\">\n",
       "<title>140240090721552&#45;&gt;140240090725344</title>\n",
       "<path fill=\"none\" stroke=\"black\" d=\"M233.23,-688.16C230.46,-680.69 226.22,-669.24 221.59,-656.73\"/>\n",
       "<polygon fill=\"black\" stroke=\"black\" points=\"224.74,-655.18 217.99,-647.01 218.18,-657.61 224.74,-655.18\"/>\n",
       "</g>\n",
       "<!-- 140240090710176 -->\n",
       "<g id=\"node14\" class=\"node\">\n",
       "<title>140240090710176</title>\n",
       "<polygon fill=\"lightgrey\" stroke=\"black\" points=\"287,-773.5 186,-773.5 186,-754.5 287,-754.5 287,-773.5\"/>\n",
       "<text text-anchor=\"middle\" x=\"236.5\" y=\"-761.5\" font-family=\"monospace\" font-size=\"10.00\">AccumulateGrad</text>\n",
       "</g>\n",
       "<!-- 140240090710176&#45;&gt;140240090721552 -->\n",
       "<g id=\"edge12\" class=\"edge\">\n",
       "<title>140240090710176&#45;&gt;140240090721552</title>\n",
       "<path fill=\"none\" stroke=\"black\" d=\"M236.5,-754.37C236.5,-745.16 236.5,-730.29 236.5,-718.27\"/>\n",
       "<polygon fill=\"black\" stroke=\"black\" points=\"240,-717.91 236.5,-707.91 233,-717.91 240,-717.91\"/>\n",
       "</g>\n",
       "<!-- 140240978503424 -->\n",
       "<g id=\"node15\" class=\"node\">\n",
       "<title>140240978503424</title>\n",
       "<polygon fill=\"lightblue\" stroke=\"black\" points=\"275,-845 198,-845 198,-815 275,-815 275,-845\"/>\n",
       "<text text-anchor=\"middle\" x=\"236.5\" y=\"-833\" font-family=\"monospace\" font-size=\"10.00\">0.weight</text>\n",
       "<text text-anchor=\"middle\" x=\"236.5\" y=\"-822\" font-family=\"monospace\" font-size=\"10.00\"> (64, 784)</text>\n",
       "</g>\n",
       "<!-- 140240978503424&#45;&gt;140240090710176 -->\n",
       "<g id=\"edge13\" class=\"edge\">\n",
       "<title>140240978503424&#45;&gt;140240090710176</title>\n",
       "<path fill=\"none\" stroke=\"black\" d=\"M236.5,-814.8C236.5,-805.7 236.5,-793.79 236.5,-783.9\"/>\n",
       "<polygon fill=\"black\" stroke=\"black\" points=\"240,-783.84 236.5,-773.84 233,-783.84 240,-783.84\"/>\n",
       "</g>\n",
       "<!-- 140240090712192 -->\n",
       "<g id=\"node16\" class=\"node\">\n",
       "<title>140240090712192</title>\n",
       "<polygon fill=\"lightgrey\" stroke=\"black\" points=\"366,-482 289,-482 289,-463 366,-463 366,-482\"/>\n",
       "<text text-anchor=\"middle\" x=\"327.5\" y=\"-470\" font-family=\"monospace\" font-size=\"10.00\">TBackward0</text>\n",
       "</g>\n",
       "<!-- 140240090712192&#45;&gt;140240090718864 -->\n",
       "<g id=\"edge14\" class=\"edge\">\n",
       "<title>140240090712192&#45;&gt;140240090718864</title>\n",
       "<path fill=\"none\" stroke=\"black\" d=\"M318.63,-462.97C309.38,-454.07 293.97,-439.25 277.6,-423.5\"/>\n",
       "<polygon fill=\"black\" stroke=\"black\" points=\"279.66,-420.63 270.03,-416.22 274.81,-425.68 279.66,-420.63\"/>\n",
       "</g>\n",
       "<!-- 140240090713728 -->\n",
       "<g id=\"node17\" class=\"node\">\n",
       "<title>140240090713728</title>\n",
       "<polygon fill=\"lightgrey\" stroke=\"black\" points=\"420,-597.5 319,-597.5 319,-578.5 420,-578.5 420,-597.5\"/>\n",
       "<text text-anchor=\"middle\" x=\"369.5\" y=\"-585.5\" font-family=\"monospace\" font-size=\"10.00\">AccumulateGrad</text>\n",
       "</g>\n",
       "<!-- 140240090713728&#45;&gt;140240090712192 -->\n",
       "<g id=\"edge15\" class=\"edge\">\n",
       "<title>140240090713728&#45;&gt;140240090712192</title>\n",
       "<path fill=\"none\" stroke=\"black\" d=\"M366.34,-578.47C359.56,-560.15 343.48,-516.68 334.28,-491.81\"/>\n",
       "<polygon fill=\"black\" stroke=\"black\" points=\"337.45,-490.29 330.69,-482.13 330.88,-492.72 337.45,-490.29\"/>\n",
       "</g>\n",
       "<!-- 140240090152240 -->\n",
       "<g id=\"node18\" class=\"node\">\n",
       "<title>140240090152240</title>\n",
       "<polygon fill=\"lightblue\" stroke=\"black\" points=\"405,-713 334,-713 334,-683 405,-683 405,-713\"/>\n",
       "<text text-anchor=\"middle\" x=\"369.5\" y=\"-701\" font-family=\"monospace\" font-size=\"10.00\">2.weight</text>\n",
       "<text text-anchor=\"middle\" x=\"369.5\" y=\"-690\" font-family=\"monospace\" font-size=\"10.00\"> (64, 64)</text>\n",
       "</g>\n",
       "<!-- 140240090152240&#45;&gt;140240090713728 -->\n",
       "<g id=\"edge16\" class=\"edge\">\n",
       "<title>140240090152240&#45;&gt;140240090713728</title>\n",
       "<path fill=\"none\" stroke=\"black\" d=\"M369.5,-682.88C369.5,-663.59 369.5,-628.96 369.5,-607.58\"/>\n",
       "<polygon fill=\"black\" stroke=\"black\" points=\"373,-607.51 369.5,-597.51 366,-607.51 373,-607.51\"/>\n",
       "</g>\n",
       "<!-- 140240090725296 -->\n",
       "<g id=\"node19\" class=\"node\">\n",
       "<title>140240090725296</title>\n",
       "<polygon fill=\"lightgrey\" stroke=\"black\" points=\"412,-251 335,-251 335,-232 412,-232 412,-251\"/>\n",
       "<text text-anchor=\"middle\" x=\"373.5\" y=\"-239\" font-family=\"monospace\" font-size=\"10.00\">TBackward0</text>\n",
       "</g>\n",
       "<!-- 140240090725296&#45;&gt;140240090715696 -->\n",
       "<g id=\"edge17\" class=\"edge\">\n",
       "<title>140240090725296&#45;&gt;140240090715696</title>\n",
       "<path fill=\"none\" stroke=\"black\" d=\"M361.17,-231.97C347.91,-222.79 325.54,-207.31 301.99,-191.01\"/>\n",
       "<polygon fill=\"black\" stroke=\"black\" points=\"303.84,-188.03 293.63,-185.22 299.86,-193.79 303.84,-188.03\"/>\n",
       "</g>\n",
       "<!-- 140240090719104 -->\n",
       "<g id=\"node20\" class=\"node\">\n",
       "<title>140240090719104</title>\n",
       "<polygon fill=\"lightgrey\" stroke=\"black\" points=\"458,-366.5 357,-366.5 357,-347.5 458,-347.5 458,-366.5\"/>\n",
       "<text text-anchor=\"middle\" x=\"407.5\" y=\"-354.5\" font-family=\"monospace\" font-size=\"10.00\">AccumulateGrad</text>\n",
       "</g>\n",
       "<!-- 140240090719104&#45;&gt;140240090725296 -->\n",
       "<g id=\"edge18\" class=\"edge\">\n",
       "<title>140240090719104&#45;&gt;140240090725296</title>\n",
       "<path fill=\"none\" stroke=\"black\" d=\"M404.94,-347.47C399.46,-329.15 386.44,-285.68 378.98,-260.81\"/>\n",
       "<polygon fill=\"black\" stroke=\"black\" points=\"382.31,-259.7 376.09,-251.13 375.6,-261.71 382.31,-259.7\"/>\n",
       "</g>\n",
       "<!-- 140240092796608 -->\n",
       "<g id=\"node21\" class=\"node\">\n",
       "<title>140240092796608</title>\n",
       "<polygon fill=\"lightblue\" stroke=\"black\" points=\"455,-487.5 384,-487.5 384,-457.5 455,-457.5 455,-487.5\"/>\n",
       "<text text-anchor=\"middle\" x=\"419.5\" y=\"-475.5\" font-family=\"monospace\" font-size=\"10.00\">4.weight</text>\n",
       "<text text-anchor=\"middle\" x=\"419.5\" y=\"-464.5\" font-family=\"monospace\" font-size=\"10.00\"> (10, 64)</text>\n",
       "</g>\n",
       "<!-- 140240092796608&#45;&gt;140240090719104 -->\n",
       "<g id=\"edge19\" class=\"edge\">\n",
       "<title>140240092796608&#45;&gt;140240090719104</title>\n",
       "<path fill=\"none\" stroke=\"black\" d=\"M417.98,-457.13C415.82,-436.71 411.87,-399.31 409.48,-376.74\"/>\n",
       "<polygon fill=\"black\" stroke=\"black\" points=\"412.96,-376.31 408.42,-366.73 405.99,-377.04 412.96,-376.31\"/>\n",
       "</g>\n",
       "</g>\n",
       "</svg>\n"
      ],
      "text/plain": [
       "<graphviz.graphs.Digraph at 0x7f8c30ca7580>"
      ]
     },
     "execution_count": 35,
     "metadata": {},
     "output_type": "execute_result"
    }
   ],
   "source": [
    "#모델구조 시각화\n",
    "from torchviz import make_dot\n",
    "\n",
    "dummy_input = torch.zeros((32, 784)).to(device)\n",
    "make_dot(model(dummy_input), params=dict(list(model.named_parameters())), show_attrs=True)"
   ]
  },
  {
   "cell_type": "code",
   "execution_count": null,
   "metadata": {
    "id": "wKXH0CEvbWBW"
   },
   "outputs": [],
   "source": [
    "#텐서보드 활용"
   ]
  },
  {
   "cell_type": "markdown",
   "metadata": {
    "id": "Qp2FZ2dxTpTA"
   },
   "source": [
    "### 3) 성능 평가(테스트 데이터)"
   ]
  },
  {
   "cell_type": "code",
   "execution_count": 36,
   "metadata": {
    "colab": {
     "base_uri": "https://localhost:8080/"
    },
    "executionInfo": {
     "elapsed": 743,
     "status": "ok",
     "timestamp": 1694515198153,
     "user": {
      "displayName": "류현승",
      "userId": "08358934389582979220"
     },
     "user_tz": -540
    },
    "id": "7RAlEIhhw-Wq",
    "outputId": "da0ed1a1-e431-4f30-bdd1-f42d54b3a078"
   },
   "outputs": [
    {
     "name": "stdout",
     "output_type": "stream",
     "text": [
      "tensor(0.9754, device='cuda:0')\n"
     ]
    }
   ],
   "source": [
    "#torchmetrics 모듈 활용\n",
    "import torchmetrics\n",
    "\n",
    "metric = torchmetrics.Accuracy(task=\"multiclass\", num_classes=10).to(device)\n",
    "model.load_state_dict(torch.load(\"MNIST.pth\", map_location=device))\n",
    "\n",
    "with torch.no_grad():\n",
    "    for data, label in test_dataloader:\n",
    "        data = data.to(device)\n",
    "        label = label.to(device)\n",
    "\n",
    "        preds = model(data).softmax(dim=-1)\n",
    "        target = label.data\n",
    "        acc = metric(preds, target)\n",
    "        # print(f\"Accuracy on batch {acc}\")\n",
    "\n",
    "acc = metric.compute()\n",
    "print(acc)"
   ]
  },
  {
   "cell_type": "code",
   "execution_count": null,
   "metadata": {
    "colab": {
     "base_uri": "https://localhost:8080/"
    },
    "executionInfo": {
     "elapsed": 798,
     "status": "ok",
     "timestamp": 1694441837863,
     "user": {
      "displayName": "김은희",
      "userId": "05924604064405970383"
     },
     "user_tz": -540
    },
    "id": "TtwVUyxsX2gi",
    "outputId": "b3ef1344-543d-4674-e804-6808b91564ab"
   },
   "outputs": [
    {
     "name": "stdout",
     "output_type": "stream",
     "text": [
      "Accuracy : 0.9765\n"
     ]
    }
   ],
   "source": [
    "#모델 성능 평가\n",
    "#모델 불러오기\n",
    "model.load_state_dict(torch.load(\"MNIST.pth\", map_location=device))\n",
    "num_corr = 0\n",
    "with torch.no_grad():\n",
    "    for data, label in test_dataloader:\n",
    "        data = data.to(device)\n",
    "        output = model(data)\n",
    "        preds = output.data.max(1)[1]\n",
    "        corr = preds.eq(label.to(device).data).sum().item()\n",
    "        num_corr += corr\n",
    "    print(f\"Accuracy : {num_corr/len(test_X)}\")"
   ]
  }
 ],
 "metadata": {
  "accelerator": "GPU",
  "colab": {
   "collapsed_sections": [
    "Mv3AOCio9GoL",
    "rREXVynADq9Z"
   ],
   "gpuType": "T4",
   "provenance": [
    {
     "file_id": "1175fk65Rael9mzm9qYxDSCKFPtOFzzit",
     "timestamp": 1694483814061
    }
   ]
  },
  "kernelspec": {
   "display_name": "Python 3",
   "name": "python3"
  },
  "language_info": {
   "codemirror_mode": {
    "name": "ipython",
    "version": 3
   },
   "file_extension": ".py",
   "mimetype": "text/x-python",
   "name": "python",
   "nbconvert_exporter": "python",
   "pygments_lexer": "ipython3",
   "version": "3.11.4"
  }
 },
 "nbformat": 4,
 "nbformat_minor": 0
}
